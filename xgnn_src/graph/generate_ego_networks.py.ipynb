{
 "cells": [
  {
   "cell_type": "code",
   "execution_count": 17,
   "id": "0e69defe",
   "metadata": {},
   "outputs": [],
   "source": [
    "from xgnn_src.node.utils import load_data"
   ]
  },
  {
   "cell_type": "code",
   "execution_count": 80,
   "id": "0463bcc2",
   "metadata": {},
   "outputs": [],
   "source": [
    "import dgl\n",
    "import torch\n",
    "import numpy as np"
   ]
  },
  {
   "cell_type": "code",
   "execution_count": 96,
   "id": "2b89540b",
   "metadata": {},
   "outputs": [
    {
     "name": "stdout",
     "output_type": "stream",
     "text": [
      "Done loading data from cached files.\n",
      "net_rur Graph(num_nodes=45954, num_edges=98630,\n",
      "      ndata_schemes={'test_mask': Scheme(shape=(), dtype=torch.uint8), 'val_mask': Scheme(shape=(), dtype=torch.uint8), 'train_mask': Scheme(shape=(), dtype=torch.uint8), 'label': Scheme(shape=(), dtype=torch.int64), 'feature': Scheme(shape=(32,), dtype=torch.float32), 'feat': Scheme(shape=(32,), dtype=torch.float32)}\n",
      "      edata_schemes={})\n"
     ]
    }
   ],
   "source": [
    "yelp1 = load_data('yelp', 'net_rur')\n",
    "yelp1 = yelp1[0]\n",
    "y1_pos = (yelp1.ndata['label'] == 1).nonzero()\n",
    "y1_neg = (yelp1.ndata['label'] == 0).nonzero()"
   ]
  },
  {
   "cell_type": "code",
   "execution_count": 120,
   "id": "399fb5e7",
   "metadata": {},
   "outputs": [],
   "source": [
    "def getDegreeStats(g, pos, neg):\n",
    "    posdegs = []\n",
    "    for n in pos:\n",
    "        posdegs.append(g.in_degree(n).item())\n",
    "    print(np.sum(np.array(posdegs) != 0), len(posdegs))\n",
    "    nedegs = []\n",
    "    for n in neg:\n",
    "        nedegs.append(g.in_degree(n).item())\n",
    "    print(np.sum(np.array(nedegs) != 0), len(nedegs))"
   ]
  },
  {
   "cell_type": "code",
   "execution_count": 121,
   "id": "f8b3fda0",
   "metadata": {},
   "outputs": [
    {
     "name": "stdout",
     "output_type": "stream",
     "text": [
      "1217 6677\n",
      "22614 39277\n"
     ]
    }
   ],
   "source": [
    "getDegreeStats(yelp1, y1_pos, y1_neg)"
   ]
  },
  {
   "cell_type": "code",
   "execution_count": 86,
   "id": "29ad0cfd",
   "metadata": {},
   "outputs": [
    {
     "name": "stdout",
     "output_type": "stream",
     "text": [
      "Done loading data from cached files.\n",
      "net_rsr Graph(num_nodes=45954, num_edges=6805486,\n",
      "      ndata_schemes={'test_mask': Scheme(shape=(), dtype=torch.uint8), 'val_mask': Scheme(shape=(), dtype=torch.uint8), 'train_mask': Scheme(shape=(), dtype=torch.uint8), 'label': Scheme(shape=(), dtype=torch.int64), 'feature': Scheme(shape=(32,), dtype=torch.float32), 'feat': Scheme(shape=(32,), dtype=torch.float32)}\n",
      "      edata_schemes={})\n"
     ]
    }
   ],
   "source": [
    "yelp = load_data('yelp', 'net_rsr')"
   ]
  },
  {
   "cell_type": "code",
   "execution_count": 87,
   "id": "8133616d",
   "metadata": {},
   "outputs": [],
   "source": [
    "yelp = yelp[0]"
   ]
  },
  {
   "cell_type": "code",
   "execution_count": 88,
   "id": "83f32ea5",
   "metadata": {},
   "outputs": [],
   "source": [
    "positive = (yelp.ndata['label'] == 1).nonzero()\n",
    "negative = (yelp.ndata['label'] == 0).nonzero()"
   ]
  },
  {
   "cell_type": "code",
   "execution_count": 122,
   "id": "ece7a653",
   "metadata": {},
   "outputs": [
    {
     "name": "stdout",
     "output_type": "stream",
     "text": [
      "6670 6677\n",
      "39244 39277\n"
     ]
    }
   ],
   "source": [
    "getDegreeStats(yelp, positive, negative)"
   ]
  },
  {
   "cell_type": "code",
   "execution_count": 96,
   "id": "89b4f878",
   "metadata": {},
   "outputs": [],
   "source": [
    "def get_khop(g, idx, k):\n",
    "    center = torch.tensor([idx])\n",
    "    src, dst = [], []\n",
    "    for i in range(k):\n",
    "        s, c = g.in_edges(center)\n",
    "        st, dt = torch.hstack([s, c]), torch.hstack(g.out_edges(center))\n",
    "        src.append(st)\n",
    "        dst.append(dt)\n",
    "        center = s\n",
    "    src, dst = torch.hstack(src), torch.hstack(dst)       \n",
    "    uniq = torch.unique(torch.hstack([src, dst]))\n",
    "    feats = g.ndata['feat'][uniq]\n",
    "    mapping = {v.item(): i for i, v in enumerate(uniq)}\n",
    "    ns, nd = [], []\n",
    "    for s, d in zip(src, dst):\n",
    "        ns.append(mapping[s.item()])\n",
    "        nd.append(mapping[d.item()])\n",
    "    return torch.tensor(ns), torch.tensor(nd), feats, uniq"
   ]
  },
  {
   "cell_type": "code",
   "execution_count": 20,
   "id": "2b551375",
   "metadata": {},
   "outputs": [
    {
     "name": "stdout",
     "output_type": "stream",
     "text": [
      "Done loading data from cached files.\n",
      "net_upu Graph(num_nodes=11944, num_edges=351216,\n",
      "      ndata_schemes={'test_mask': Scheme(shape=(), dtype=torch.uint8), 'val_mask': Scheme(shape=(), dtype=torch.uint8), 'train_mask': Scheme(shape=(), dtype=torch.uint8), 'label': Scheme(shape=(), dtype=torch.int64), 'feature': Scheme(shape=(25,), dtype=torch.float32), 'feat': Scheme(shape=(25,), dtype=torch.float32)}\n",
      "      edata_schemes={})\n"
     ]
    }
   ],
   "source": [
    "amazon = load_data('amazon', 'net_upu')\n",
    "amazon = amazon[0]"
   ]
  },
  {
   "cell_type": "code",
   "execution_count": 25,
   "id": "9e425127",
   "metadata": {},
   "outputs": [],
   "source": [
    "apositive = (amazon.ndata['label'] == 1).nonzero().flatten()\n",
    "anegative = (amazon.ndata['label'] == 0).nonzero().flatten()"
   ]
  },
  {
   "cell_type": "code",
   "execution_count": 24,
   "id": "72640e78",
   "metadata": {},
   "outputs": [],
   "source": [
    "adegrees = amazon.in_degrees()"
   ]
  },
  {
   "cell_type": "code",
   "execution_count": 28,
   "id": "7810c640",
   "metadata": {},
   "outputs": [],
   "source": [
    "apos_degs = adegrees[apositive]\n",
    "aneg_degs = adegrees[anegative]"
   ]
  },
  {
   "cell_type": "code",
   "execution_count": 35,
   "id": "957b8154",
   "metadata": {},
   "outputs": [],
   "source": [
    "apos_filter = apositive[(apos_degs != 0).nonzero().flatten()]\n",
    "aneg_filter = anegative[(aneg_degs != 0).nonzero().flatten()]"
   ]
  },
  {
   "cell_type": "code",
   "execution_count": 40,
   "id": "a2ffd2c7",
   "metadata": {},
   "outputs": [],
   "source": [
    "a = list(amazon.in_edges(apos_filter[0]))"
   ]
  },
  {
   "cell_type": "code",
   "execution_count": 102,
   "id": "7076c2a2",
   "metadata": {},
   "outputs": [],
   "source": [
    "def generate_ego_graph(graph, nid, k):\n",
    "    ns, nd, feat, old_idx = get_khop(graph, nid, k)\n",
    "    ng = dgl.graph((ns, nd))\n",
    "    ng.ndata['feat'] = feat\n",
    "    ng.ndata['orig_id'] = old_idx\n",
    "    return ng"
   ]
  },
  {
   "cell_type": "code",
   "execution_count": 103,
   "id": "340e7c84",
   "metadata": {},
   "outputs": [],
   "source": [
    "pos_graphs = [generate_ego_graph(amazon, p, 2) for p in apos_filter]    "
   ]
  },
  {
   "cell_type": "code",
   "execution_count": 110,
   "id": "78ff74ce",
   "metadata": {},
   "outputs": [],
   "source": [
    "pos_numnodes = np.array([g.num_edges() for g in pos_graphs])"
   ]
  },
  {
   "cell_type": "code",
   "execution_count": 116,
   "id": "4d2dbef4",
   "metadata": {},
   "outputs": [],
   "source": [
    "import pandas as pd\n",
    "import seaborn as sns"
   ]
  },
  {
   "cell_type": "code",
   "execution_count": 118,
   "id": "8c78245e",
   "metadata": {},
   "outputs": [],
   "source": [
    "df = pd.DataFrame({\"num_edges\": pos_numnodes})"
   ]
  },
  {
   "cell_type": "code",
   "execution_count": 159,
   "id": "55c583ff",
   "metadata": {},
   "outputs": [],
   "source": [
    "df_filter = df[df['num_edges'] <= 4000].index.to_numpy()"
   ]
  },
  {
   "cell_type": "code",
   "execution_count": 146,
   "id": "394b367a",
   "metadata": {},
   "outputs": [
    {
     "data": {
      "text/html": [
       "<div>\n",
       "<style scoped>\n",
       "    .dataframe tbody tr th:only-of-type {\n",
       "        vertical-align: middle;\n",
       "    }\n",
       "\n",
       "    .dataframe tbody tr th {\n",
       "        vertical-align: top;\n",
       "    }\n",
       "\n",
       "    .dataframe thead th {\n",
       "        text-align: right;\n",
       "    }\n",
       "</style>\n",
       "<table border=\"1\" class=\"dataframe\">\n",
       "  <thead>\n",
       "    <tr style=\"text-align: right;\">\n",
       "      <th></th>\n",
       "      <th>num_edges</th>\n",
       "    </tr>\n",
       "  </thead>\n",
       "  <tbody>\n",
       "    <tr>\n",
       "      <th>0</th>\n",
       "      <td>3672</td>\n",
       "    </tr>\n",
       "    <tr>\n",
       "      <th>1</th>\n",
       "      <td>58</td>\n",
       "    </tr>\n",
       "    <tr>\n",
       "      <th>2</th>\n",
       "      <td>32</td>\n",
       "    </tr>\n",
       "    <tr>\n",
       "      <th>3</th>\n",
       "      <td>3018</td>\n",
       "    </tr>\n",
       "    <tr>\n",
       "      <th>81</th>\n",
       "      <td>122</td>\n",
       "    </tr>\n",
       "    <tr>\n",
       "      <th>...</th>\n",
       "      <td>...</td>\n",
       "    </tr>\n",
       "    <tr>\n",
       "      <th>688</th>\n",
       "      <td>1428</td>\n",
       "    </tr>\n",
       "    <tr>\n",
       "      <th>689</th>\n",
       "      <td>48</td>\n",
       "    </tr>\n",
       "    <tr>\n",
       "      <th>690</th>\n",
       "      <td>4</td>\n",
       "    </tr>\n",
       "    <tr>\n",
       "      <th>691</th>\n",
       "      <td>12</td>\n",
       "    </tr>\n",
       "    <tr>\n",
       "      <th>692</th>\n",
       "      <td>68</td>\n",
       "    </tr>\n",
       "  </tbody>\n",
       "</table>\n",
       "<p>540 rows × 1 columns</p>\n",
       "</div>"
      ],
      "text/plain": [
       "     num_edges\n",
       "0         3672\n",
       "1           58\n",
       "2           32\n",
       "3         3018\n",
       "81         122\n",
       "..         ...\n",
       "688       1428\n",
       "689         48\n",
       "690          4\n",
       "691         12\n",
       "692         68\n",
       "\n",
       "[540 rows x 1 columns]"
      ]
     },
     "execution_count": 146,
     "metadata": {},
     "output_type": "execute_result"
    }
   ],
   "source": [
    "df[df['num_edges'] <= 4000]"
   ]
  },
  {
   "cell_type": "code",
   "execution_count": 145,
   "id": "b5fb8efa",
   "metadata": {},
   "outputs": [
    {
     "data": {
      "text/plain": [
       "<AxesSubplot:xlabel='num_edges', ylabel='Count'>"
      ]
     },
     "execution_count": 145,
     "metadata": {},
     "output_type": "execute_result"
    },
    {
     "data": {
      "image/png": "[encoded data removed]",
      "text/plain": [
       "<Figure size 432x288 with 1 Axes>"
      ]
     },
     "metadata": {
      "needs_background": "light"
     },
     "output_type": "display_data"
    }
   ],
   "source": [
    "sns.histplot(df[df['num_edges'] < 4000], x='num_edges')"
   ]
  },
  {
   "cell_type": "code",
   "execution_count": 129,
   "id": "bb455e22",
   "metadata": {},
   "outputs": [],
   "source": [
    "neg_graphs = [generate_ego_graph(amazon, p, 2) for p in aneg_filter]    "
   ]
  },
  {
   "cell_type": "code",
   "execution_count": 131,
   "id": "d9810df3",
   "metadata": {},
   "outputs": [],
   "source": [
    "neg_numedges = [ng.num_edges() for ng in neg_graphs]"
   ]
  },
  {
   "cell_type": "code",
   "execution_count": 132,
   "id": "b131e0c6",
   "metadata": {},
   "outputs": [],
   "source": [
    "ndf = pd.DataFrame({'num_edges': neg_numedges})"
   ]
  },
  {
   "cell_type": "code",
   "execution_count": 150,
   "id": "813f78ac",
   "metadata": {},
   "outputs": [],
   "source": [
    "ndf_filter = ndf[ndf['num_edges'] <= 4000].index"
   ]
  },
  {
   "cell_type": "code",
   "execution_count": 148,
   "id": "daa0e7ab",
   "metadata": {},
   "outputs": [
    {
     "data": {
      "text/html": [
       "<div>\n",
       "<style scoped>\n",
       "    .dataframe tbody tr th:only-of-type {\n",
       "        vertical-align: middle;\n",
       "    }\n",
       "\n",
       "    .dataframe tbody tr th {\n",
       "        vertical-align: top;\n",
       "    }\n",
       "\n",
       "    .dataframe thead th {\n",
       "        text-align: right;\n",
       "    }\n",
       "</style>\n",
       "<table border=\"1\" class=\"dataframe\">\n",
       "  <thead>\n",
       "    <tr style=\"text-align: right;\">\n",
       "      <th></th>\n",
       "      <th>num_edges</th>\n",
       "    </tr>\n",
       "  </thead>\n",
       "  <tbody>\n",
       "    <tr>\n",
       "      <th>0</th>\n",
       "      <td>4</td>\n",
       "    </tr>\n",
       "    <tr>\n",
       "      <th>1</th>\n",
       "      <td>392</td>\n",
       "    </tr>\n",
       "    <tr>\n",
       "      <th>2</th>\n",
       "      <td>680</td>\n",
       "    </tr>\n",
       "    <tr>\n",
       "      <th>3</th>\n",
       "      <td>384</td>\n",
       "    </tr>\n",
       "    <tr>\n",
       "      <th>4</th>\n",
       "      <td>66</td>\n",
       "    </tr>\n",
       "    <tr>\n",
       "      <th>...</th>\n",
       "      <td>...</td>\n",
       "    </tr>\n",
       "    <tr>\n",
       "      <th>9526</th>\n",
       "      <td>4</td>\n",
       "    </tr>\n",
       "    <tr>\n",
       "      <th>9527</th>\n",
       "      <td>12</td>\n",
       "    </tr>\n",
       "    <tr>\n",
       "      <th>9528</th>\n",
       "      <td>68</td>\n",
       "    </tr>\n",
       "    <tr>\n",
       "      <th>9529</th>\n",
       "      <td>70</td>\n",
       "    </tr>\n",
       "    <tr>\n",
       "      <th>9530</th>\n",
       "      <td>70</td>\n",
       "    </tr>\n",
       "  </tbody>\n",
       "</table>\n",
       "<p>7791 rows × 1 columns</p>\n",
       "</div>"
      ],
      "text/plain": [
       "      num_edges\n",
       "0             4\n",
       "1           392\n",
       "2           680\n",
       "3           384\n",
       "4            66\n",
       "...         ...\n",
       "9526          4\n",
       "9527         12\n",
       "9528         68\n",
       "9529         70\n",
       "9530         70\n",
       "\n",
       "[7791 rows x 1 columns]"
      ]
     },
     "execution_count": 148,
     "metadata": {},
     "output_type": "execute_result"
    }
   ],
   "source": [
    "ndf[ndf['num_edges'] <= 4000]"
   ]
  },
  {
   "cell_type": "code",
   "execution_count": 147,
   "id": "a50a6c6b",
   "metadata": {},
   "outputs": [
    {
     "data": {
      "text/plain": [
       "<AxesSubplot:xlabel='num_edges', ylabel='Count'>"
      ]
     },
     "execution_count": 147,
     "metadata": {},
     "output_type": "execute_result"
    },
    {
     "data": {
      "image/png": "[encoded data removed]",
      "text/plain": [
       "<Figure size 432x288 with 1 Axes>"
      ]
     },
     "metadata": {
      "needs_background": "light"
     },
     "output_type": "display_data"
    }
   ],
   "source": [
    "sns.histplot(ndf[ndf['num_edges'] <= 4000], x='num_edges')"
   ]
  },
  {
   "cell_type": "code",
   "execution_count": 151,
   "id": "cc7a5170",
   "metadata": {},
   "outputs": [],
   "source": [
    "def filter_graphs(graphs, indices):\n",
    "    ngraphs = [graphs[i] for i in indices]\n",
    "    return ngraphs"
   ]
  },
  {
   "cell_type": "code",
   "execution_count": 160,
   "id": "2c779cb6",
   "metadata": {},
   "outputs": [],
   "source": [
    "pos_graph_filters = filter_graphs(pos_graphs, df_filter)"
   ]
  },
  {
   "cell_type": "code",
   "execution_count": 157,
   "id": "f7dd2c92",
   "metadata": {},
   "outputs": [],
   "source": [
    "neg_graph_filters = filter_graphs(neg_graphs, ndf_filter)"
   ]
  },
  {
   "cell_type": "code",
   "execution_count": 162,
   "id": "3b7d8c4c",
   "metadata": {},
   "outputs": [],
   "source": [
    "import pickle as pkl"
   ]
  },
  {
   "cell_type": "code",
   "execution_count": 186,
   "id": "d0738627",
   "metadata": {},
   "outputs": [],
   "source": [
    "with open('./datasets/amazon_ego.pkl', 'wb') as f:\n",
    "    pkl.dump((pos_graph_filters, neg_graph_filters, torch.hstack([apos_filter, aneg_filter]).tolist()), f)"
   ]
  },
  {
   "cell_type": "code",
   "execution_count": 167,
   "id": "d0f1dceb",
   "metadata": {},
   "outputs": [],
   "source": [
    "neg_graph_filters2 = np.random.choice(neg_graph_filters, len(pos_graph_filters), replace=False)"
   ]
  },
  {
   "cell_type": "code",
   "execution_count": 185,
   "id": "bde9ac79",
   "metadata": {},
   "outputs": [],
   "source": [
    "with open('./datasets/amazon_ego_2.pkl', 'wb') as f:\n",
    "    graphs = pos_graph_filters + neg_graph_filters2.tolist()\n",
    "    l = len(pos_graph_filters)\n",
    "    labels = np.ones(l).tolist() + np.zeros(l).tolist()\n",
    "    egos = torch.hstack([apos_filter[df_filter], aneg_filter[ndf_filter]]).tolist()\n",
    "    pkl.dump((graphs, labels, egos), f)"
   ]
  },
  {
   "cell_type": "code",
   "execution_count": 187,
   "id": "833b6f56",
   "metadata": {},
   "outputs": [],
   "source": [
    "from dgl.data import BA2MotifDataset"
   ]
  },
  {
   "cell_type": "code",
   "execution_count": 188,
   "id": "42f86c44",
   "metadata": {},
   "outputs": [
    {
     "name": "stdout",
     "output_type": "stream",
     "text": [
      "Done loading data from cached files.\n"
     ]
    }
   ],
   "source": [
    "ba = BA2MotifDataset()"
   ]
  },
  {
   "cell_type": "code",
   "execution_count": 192,
   "id": "b048d1fc",
   "metadata": {},
   "outputs": [
    {
     "data": {
      "text/plain": [
       "(Graph(num_nodes=25, num_edges=50,\n",
       "       ndata_schemes={'feat': Scheme(shape=(10,), dtype=torch.float32)}\n",
       "       edata_schemes={}),\n",
       " tensor([1, 0]))"
      ]
     },
     "execution_count": 192,
     "metadata": {},
     "output_type": "execute_result"
    }
   ],
   "source": [
    "ba[0]"
   ]
  },
  {
   "cell_type": "code",
   "execution_count": null,
   "id": "126f631a",
   "metadata": {},
   "outputs": [],
   "source": []
  }
 ],
 "metadata": {
  "kernelspec": {
   "display_name": "Python 3 (ipykernel)",
   "language": "python",
   "name": "python3"
  },
  "language_info": {
   "codemirror_mode": {
    "name": "ipython",
    "version": 3
   },
   "file_extension": ".py",
   "mimetype": "text/x-python",
   "name": "python",
   "nbconvert_exporter": "python",
   "pygments_lexer": "ipython3",
   "version": "3.8.13"
  }
 },
 "nbformat": 4,
 "nbformat_minor": 5
}
