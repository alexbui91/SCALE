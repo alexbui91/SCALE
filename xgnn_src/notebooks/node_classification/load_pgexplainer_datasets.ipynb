{
 "cells": [
  {
   "cell_type": "code",
   "execution_count": 2,
   "id": "7af58557",
   "metadata": {},
   "outputs": [],
   "source": [
    "import pickle as pkl"
   ]
  },
  {
   "cell_type": "code",
   "execution_count": 6,
   "id": "a7e8a106",
   "metadata": {},
   "outputs": [],
   "source": [
    "def load_dataset(name):\n",
    "    with open('./datasets/' + name + '.pkl', 'rb') as fin:\n",
    "        adj, features, y_train, y_val, y_test, train_mask, val_mask, test_mask, edge_label_matrix  = pkl.load(fin)\n",
    "    return adj, features, y_train, y_val, y_test, train_mask, val_mask, test_mask, edge_label_matrix"
   ]
  },
  {
   "cell_type": "code",
   "execution_count": 7,
   "id": "50bc8f3b",
   "metadata": {},
   "outputs": [],
   "source": [
    "data = load_dataset('syn1')"
   ]
  },
  {
   "cell_type": "code",
   "execution_count": 11,
   "id": "3837a553",
   "metadata": {},
   "outputs": [],
   "source": [
    "adj, features, y_train, y_val, y_test, train_mask, val_mask, test_mask, edge_label_matrix = data"
   ]
  },
  {
   "cell_type": "code",
   "execution_count": 12,
   "id": "b47d2ed8",
   "metadata": {},
   "outputs": [],
   "source": [
    "y = y_train + y_val + y_test"
   ]
  },
  {
   "cell_type": "code",
   "execution_count": 13,
   "id": "90a49398",
   "metadata": {},
   "outputs": [
    {
     "data": {
      "text/plain": [
       "array([[1., 0., 0., 0.],\n",
       "       [1., 0., 0., 0.],\n",
       "       [1., 0., 0., 0.],\n",
       "       ...,\n",
       "       [0., 0., 1., 0.],\n",
       "       [0., 0., 1., 0.],\n",
       "       [0., 0., 0., 1.]])"
      ]
     },
     "execution_count": 13,
     "metadata": {},
     "output_type": "execute_result"
    }
   ],
   "source": [
    "y"
   ]
  },
  {
   "cell_type": "code",
   "execution_count": null,
   "id": "e9c0d385",
   "metadata": {},
   "outputs": [],
   "source": []
  }
 ],
 "metadata": {
  "kernelspec": {
   "display_name": "Python 3",
   "language": "python",
   "name": "python3"
  },
  "language_info": {
   "codemirror_mode": {
    "name": "ipython",
    "version": 3
   },
   "file_extension": ".py",
   "mimetype": "text/x-python",
   "name": "python",
   "nbconvert_exporter": "python",
   "pygments_lexer": "ipython3",
   "version": "3.8.11"
  }
 },
 "nbformat": 4,
 "nbformat_minor": 5
}
