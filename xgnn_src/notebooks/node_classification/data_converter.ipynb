{
 "cells": [
  {
   "cell_type": "code",
   "execution_count": 1,
   "id": "61f86d74",
   "metadata": {},
   "outputs": [],
   "source": [
    "import torch\n",
    "import torch.nn.functional as F\n",
    "import dgl\n",
    "import pickle as pkl\n",
    "import numpy as np\n",
    "import networkx as nx\n",
    "from copy import deepcopy"
   ]
  },
  {
   "cell_type": "code",
   "execution_count": 2,
   "id": "1500d3fe",
   "metadata": {},
   "outputs": [],
   "source": [
    "from xgnn_src.node.eval import extract_true_motif"
   ]
  },
  {
   "cell_type": "code",
   "execution_count": 3,
   "id": "52617e3b",
   "metadata": {},
   "outputs": [],
   "source": [
    "def load_data(dataset):\n",
    "    with open('./datasets/%s.g'%dataset, 'rb') as f:\n",
    "        g = pkl.load(f)\n",
    "    return g\n",
    "        \n",
    "def save_data(data, path):\n",
    "    with open(path, 'wb') as f:\n",
    "        pkl.dump(data, f)\n",
    "    \n",
    "def load_true_graphs(g, selected_node, offset, size=5):\n",
    "    true_graphs = [extract_true_motif(g, i, offset, size) for i in selected_node]\n",
    "    return true_graphs\n",
    "        \n",
    "def convert(g, true_graphs, norm_data=False):\n",
    "    # adj\n",
    "    adj = g.adj(scipy_fmt='coo')\n",
    "    adj_dense = np.asarray(adj.todense())\n",
    "    # feat\n",
    "    if not norm_data:\n",
    "        features = np.ones((g.num_nodes(), 10))\n",
    "    else:\n",
    "        features = g.ndata['feat'][:,:10].numpy()\n",
    "    train_mask, val_mask, test_mask = g.ndata['train_mask'].numpy(), g.ndata['val_mask'].numpy(), g.ndata['test_mask'].numpy()\n",
    "    y = F.one_hot(g.ndata['label']).to(torch.float32).numpy()\n",
    "    y_train = deepcopy(y)\n",
    "    y_train[~g.ndata['train_mask']] = 0.\n",
    "    y_val = deepcopy(y)\n",
    "    y_val[~g.ndata['val_mask']] = 0.\n",
    "    y_test = deepcopy(y)\n",
    "    y_test[~g.ndata['test_mask']] = 0.\n",
    "    \n",
    "    true_edges = [dg.edata['_ID'] for dg in true_graphs]\n",
    "    true_edges = torch.hstack(true_edges).sort().values\n",
    "    edge_labels = torch.zeros((g.num_edges(),))\n",
    "    edge_labels[true_edges] = 1.\n",
    "    g.edata['label'] = edge_labels\n",
    "    elb_adj = deepcopy(adj)\n",
    "    elb_adj.data = edge_labels.numpy()\n",
    "    edge_label_matrix = np.asarray(elb_adj.todense())\n",
    "    return adj_dense, features, y_train, y_val, y_test, train_mask, val_mask, test_mask, edge_label_matrix"
   ]
  },
  {
   "cell_type": "code",
   "execution_count": 6,
   "id": "f261a41a",
   "metadata": {},
   "outputs": [],
   "source": [
    "g = load_data('ba_shape_bidir')\n",
    "true_graphs = load_true_graphs(g, list(range(300, 700, 5)), 299, 5)\n",
    "data = convert(g, true_graphs)\n",
    "save_data(data, './datasets/syn1.pkl')"
   ]
  },
  {
   "cell_type": "code",
   "execution_count": 16,
   "id": "af588b9d",
   "metadata": {},
   "outputs": [],
   "source": [
    "cg = load_data('ba_community_bidir')\n",
    "true_graphs1 = load_true_graphs(cg, list(range(300, 700, 5)), 299, 5)\n",
    "true_graphs2 = load_true_graphs(cg, list(range(1000, 1400, 5)), 999, 5)\n",
    "true_graphs = true_graphs1 + true_graphs2\n",
    "data = convert(cg, true_graphs, norm_data=True)\n",
    "save_data(data, './datasets/syn2.pkl')"
   ]
  },
  {
   "cell_type": "code",
   "execution_count": 7,
   "id": "bf574599",
   "metadata": {},
   "outputs": [],
   "source": [
    "tcg = load_data('tree_cycle_bidir')\n",
    "true_graphs = load_true_graphs(tcg, list(range(511, 871, 6)), 510, 6)\n",
    "data = convert(tcg, true_graphs)\n",
    "save_data(data, './datasets/syn3.pkl')"
   ]
  },
  {
   "cell_type": "code",
   "execution_count": 4,
   "id": "9d22a771",
   "metadata": {},
   "outputs": [],
   "source": [
    "tgg = load_data('tree_grid_bidir')\n",
    "true_graphs = load_true_graphs(tgg, list(range(511, tgg.num_nodes(), 9)), 510, 9)\n",
    "data = convert(tgg, true_graphs)\n",
    "save_data(data, './datasets/syn4.pkl')"
   ]
  },
  {
   "cell_type": "code",
   "execution_count": 5,
   "id": "37166094",
   "metadata": {},
   "outputs": [
    {
     "data": {
      "image/png": "[encoded data removed]",
      "text/plain": [
       "<Figure size 432x288 with 1 Axes>"
      ]
     },
     "metadata": {},
     "output_type": "display_data"
    }
   ],
   "source": [
    "gx = dgl.to_networkx(true_graphs[0])\n",
    "pos = nx.kamada_kawai_layout(gx)\n",
    "nx.draw(gx, pos)"
   ]
  },
  {
   "cell_type": "code",
   "execution_count": 6,
   "id": "5f55ca53",
   "metadata": {},
   "outputs": [
    {
     "data": {
      "text/plain": [
       "80"
      ]
     },
     "execution_count": 6,
     "metadata": {},
     "output_type": "execute_result"
    }
   ],
   "source": [
    "len(true_graphs)"
   ]
  },
  {
   "cell_type": "code",
   "execution_count": null,
   "id": "001ebe78",
   "metadata": {},
   "outputs": [],
   "source": []
  }
 ],
 "metadata": {
  "kernelspec": {
   "display_name": "Python 3.10.6 64-bit",
   "language": "python",
   "name": "python3"
  },
  "language_info": {
   "codemirror_mode": {
    "name": "ipython",
    "version": 3
   },
   "file_extension": ".py",
   "mimetype": "text/x-python",
   "name": "python",
   "nbconvert_exporter": "python",
   "pygments_lexer": "ipython3",
   "version": "3.10.6"
  },
  "vscode": {
   "interpreter": {
    "hash": "31f2aee4e71d21fbe5cf8b01ff0e069b9275f58929596ceb00d14d90e3e16cd6"
   }
  }
 },
 "nbformat": 4,
 "nbformat_minor": 5
}
