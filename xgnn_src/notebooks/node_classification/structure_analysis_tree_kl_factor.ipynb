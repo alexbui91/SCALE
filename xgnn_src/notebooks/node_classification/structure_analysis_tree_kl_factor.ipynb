{
 "cells": [
  {
   "cell_type": "code",
   "execution_count": 1,
   "id": "380b0ae8",
   "metadata": {},
   "outputs": [],
   "source": [
    "import os, time\n",
    "from tqdm import tqdm\n",
    "import matplotlib.pyplot as plt\n",
    "import numpy as np\n",
    "import dgl\n",
    "import dgl.function as fn\n",
    "import pickle as pkl\n",
    "import torch\n",
    "from sklearn.metrics import recall_score, precision_score, roc_auc_score, roc_curve"
   ]
  },
  {
   "cell_type": "code",
   "execution_count": 2,
   "id": "7e0abd1b",
   "metadata": {},
   "outputs": [],
   "source": [
    "from xgnn_src.shared_networks import MLP, MLP_PRED\n",
    "from xgnn_src.node.online_kg2 import AllOnlineKG\n",
    "import torch.nn.functional as F"
   ]
  },
  {
   "cell_type": "code",
   "execution_count": 3,
   "id": "d8da203c",
   "metadata": {},
   "outputs": [],
   "source": [
    "import matplotlib.pyplot as plt\n",
    "plt.rcParams[\"figure.figsize\"] = [8, 8]"
   ]
  },
  {
   "cell_type": "code",
   "execution_count": 4,
   "id": "ae89b3c1",
   "metadata": {},
   "outputs": [],
   "source": [
    "from utils import *\n",
    "from xgnn_src.node.eval import *"
   ]
  },
  {
   "cell_type": "code",
   "execution_count": 5,
   "id": "1449e300",
   "metadata": {},
   "outputs": [],
   "source": [
    "import networkx as nx\n",
    "import matplotlib.pyplot as plt\n",
    "import collections"
   ]
  },
  {
   "cell_type": "code",
   "execution_count": 6,
   "id": "0f589a68",
   "metadata": {},
   "outputs": [],
   "source": [
    "from xgnn_src.node.eval import predict, evaluate_dataset, extract_true_motif, explain_test\n",
    "from xgnn_src.node.draw import draw_simple_graph"
   ]
  },
  {
   "cell_type": "code",
   "execution_count": 7,
   "id": "b78d6d7a",
   "metadata": {},
   "outputs": [],
   "source": [
    "Arg = collections.namedtuple(\"Arg\", [\"teacher_name\", \"hidden_sizes\", \"n_layers\", \"dropout\", \"n_hidden\", \"all_layer_dp\", \"skip_norm\"])"
   ]
  },
  {
   "cell_type": "markdown",
   "id": "7fcdc0b6",
   "metadata": {},
   "source": [
    "- Nodes of label 0 belong to the base BA graph\n",
    "- Nodes of label 1, 2, 3 are separately at the middle, bottom, or top of houses"
   ]
  },
  {
   "cell_type": "markdown",
   "id": "dfdac47f",
   "metadata": {},
   "source": [
    "### Using bidirected graph (default)"
   ]
  },
  {
   "cell_type": "markdown",
   "id": "d4434913",
   "metadata": {},
   "source": [
    "```\n",
    "python online_kg2.py --dataset TRG --temp 2 --n-epochs 1000 --gpu 0 --teacher-name gcn2 --student-type gcn --n-hidden 64 --n-layers 5 --lr 0.01 --all-layer-dp --skip-norm --add-reverse --teacher-pretrain ./ckpt/gcn/tree_circles_feat_bidir_kl4.pt --sl-factor 1\n",
    "\n",
    "python online_kg2.py --dataset TRG --temp 2 --n-epochs 1000 --gpu 0 --teacher-name gcn2 --student-type gcn --n-hidden 64 --n-layers 5 --lr 0.01 --all-layer-dp --skip-norm --add-reverse --teacher-pretrain ./ckpt/gcn/tree_circles_feat_bidir_kl4.pt --sl-factor 2\n",
    "\n",
    "python online_kg2.py --dataset TRG --temp 2 --n-epochs 1000 --gpu 0 --teacher-name gcn2 --student-type gcn --n-hidden 64 --n-layers 5 --lr 0.01 --all-layer-dp --skip-norm --add-reverse --teacher-pretrain ./ckpt/gcn/tree_circles_feat_bidir_kl4.pt --sl-factor 4\n",
    "\n",
    "python online_kg2.py --dataset TRG --temp 2 --n-epochs 1000 --gpu 0 --teacher-name gcn2 --student-type gcn --n-hidden 64 --n-layers 5 --lr 0.01 --all-layer-dp --skip-norm --add-reverse --teacher-pretrain ./ckpt/gcn/tree_circles_feat_bidir_kl4.pt --sl-factor 5\n",
    "\n",
    "python online_kg2.py --dataset TRG --temp 2 --n-epochs 1000 --gpu 0 --teacher-name gcn2 --student-type gcn --n-hidden 64 --n-layers 5 --lr 0.01 --all-layer-dp --skip-norm --add-reverse --teacher-pretrain ./ckpt/gcn/tree_circles_feat_bidir_kl4.pt --sl-factor 10\n",
    "```"
   ]
  },
  {
   "cell_type": "code",
   "execution_count": 20,
   "id": "20b37e24",
   "metadata": {},
   "outputs": [
    {
     "name": "stdout",
     "output_type": "stream",
     "text": [
      "using norm in graph False\n",
      "GCN2(\n",
      "  (layers): ModuleList(\n",
      "    (0): GraphConv(in=3, out=64, normalization=both, activation=None)\n",
      "    (1): GraphConv(in=64, out=64, normalization=both, activation=None)\n",
      "    (2): GraphConv(in=64, out=64, normalization=both, activation=None)\n",
      "    (3): GraphConv(in=64, out=64, normalization=both, activation=None)\n",
      "    (4): GraphConv(in=64, out=64, normalization=both, activation=None)\n",
      "    (5): GraphConv(in=64, out=2, normalization=both, activation=None)\n",
      "  )\n",
      "  (batch_norms): ModuleList()\n",
      "  (dropout): Dropout(p=0.5, inplace=False)\n",
      ")\n",
      "using norm in graph False\n",
      "norm type: bn\n",
      "norm type: bn\n",
      "norm type: bn\n"
     ]
    },
    {
     "data": {
      "text/plain": [
       "<All keys matched successfully>"
      ]
     },
     "execution_count": 20,
     "metadata": {},
     "output_type": "execute_result"
    }
   ],
   "source": [
    "kl = \"2\"\n",
    "# ba_shape1.g, ba_shape.pt\n",
    "with open('./datasets/tree_cycle_bidir.g', 'rb') as f:\n",
    "    g = pkl.load(f)\n",
    "\n",
    "num_classes = 2\n",
    "test_labels = g.ndata['label'][g.ndata['test_mask']]\n",
    "feats = g.ndata['feat'].size()[1]\n",
    "arg = Arg(\"gcn2\", [64], 5, 0.5, 64, True, True)\n",
    "base = init_teacher(arg, g, feats, num_classes)\n",
    "graph_std = init_graph_student(\"gcn\", g, feats, num_classes, 0.5, n_hidden=64,\n",
    "                                n_layers=5, hidden_sizes=None, all_layer_dp=True, skip_norm=True)\n",
    "mlp = MLP(feats, [64], num_classes, F.relu, 0.5, batch_norm=True, norm_type='bn')\n",
    "online_mode = AllOnlineKG(base, graph_std, mlp, graph_student_name=\"gcn\")\n",
    "model = torch.load('./ckpt/gcn/tree_circles_feat_bidir_kl%s.pt'%kl, map_location=\"cuda:0\")\n",
    "online_mode.load_state_dict(model)"
   ]
  },
  {
   "cell_type": "code",
   "execution_count": 21,
   "id": "891ac4aa",
   "metadata": {},
   "outputs": [
    {
     "name": "stdout",
     "output_type": "stream",
     "text": [
      "Base accuracy: 0.9770, Explainer accuracy: 0.9770\n",
      "Agreement score: 0.9770, KL Score: 0.0048\n"
     ]
    }
   ],
   "source": [
    "b_preds, e_preds = predict(base, graph_std, g)"
   ]
  },
  {
   "cell_type": "code",
   "execution_count": 22,
   "id": "cc7fdf6a",
   "metadata": {},
   "outputs": [],
   "source": [
    "selected_node = list(range(511,871,6))\n",
    "test_pentagon = [extract_true_motif(g, i, 510, 6) for i in selected_node]"
   ]
  },
  {
   "cell_type": "code",
   "execution_count": 23,
   "id": "38e388f1",
   "metadata": {},
   "outputs": [
    {
     "name": "stderr",
     "output_type": "stream",
     "text": [
      "60it [00:02, 23.56it/s]"
     ]
    },
    {
     "name": "stdout",
     "output_type": "stream",
     "text": [
      "Test for tree circles - Precision: 0.9825 & Recall: 0.9333 F1 Score: 0.9573\n",
      "2.553373098373413\n"
     ]
    },
    {
     "name": "stderr",
     "output_type": "stream",
     "text": [
      "\n"
     ]
    }
   ],
   "source": [
    "s = time.time()\n",
    "all_pre, all_rec, _ = evaluate_dataset(g, selected_node, test_pentagon, 6, 10, dumping_factor=0.55, num_iter=10)\n",
    "print(\"Test for tree circles - Precision: %.4f & Recall: %.4f F1 Score: %.4f\"\n",
    "          % (all_pre, all_rec, (all_pre*all_rec*2/(all_pre+all_rec))))\n",
    "print(time.time() - s)"
   ]
  },
  {
   "cell_type": "markdown",
   "id": "ccf64360",
   "metadata": {},
   "source": [
    "00\n",
    "Test for tree circles - Precision: 0.9972 & Recall: 1.0000 F1 Score: 0.9986\n",
    "1.9186439514160156"
   ]
  },
  {
   "cell_type": "markdown",
   "id": "ebd028e9",
   "metadata": {},
   "source": [
    "0.1\n",
    "Test for tree circles - Precision: 0.9917 & Recall: 1.0000 F1 Score: 0.9959\n",
    "2.2164316177368164"
   ]
  },
  {
   "cell_type": "markdown",
   "id": "e05fc043",
   "metadata": {},
   "source": [
    "0.3 Test for tree circles - Precision: 0.9677 & Recall: 1.0000 F1 Score: 0.9836\n",
    "2.8235068321228027"
   ]
  },
  {
   "cell_type": "markdown",
   "id": "9814c936",
   "metadata": {},
   "source": [
    "0.5\n",
    "Test for tree circles - Precision: 0.9648 & Recall: 0.9889 F1 Score: 0.9767\n",
    "2.4095003604888916"
   ]
  },
  {
   "cell_type": "markdown",
   "id": "02f75075",
   "metadata": {},
   "source": [
    "1\n",
    "Test for tree circles - Precision: 0.9816 & Recall: 0.8889 F1 Score: 0.9329\n",
    "2.7337543964385986"
   ]
  },
  {
   "cell_type": "markdown",
   "id": "300f9f03",
   "metadata": {},
   "source": [
    "2\n",
    "Test for tree circles - Precision: 0.9825 & Recall: 0.9333 F1 Score: 0.9573\n",
    "2.553373098373413"
   ]
  },
  {
   "cell_type": "markdown",
   "id": "05e64a57",
   "metadata": {},
   "source": [
    "4\n",
    "Test for tree circles - Precision: 0.9832 & Recall: 0.9778 F1 Score: 0.9805\n",
    "2.6498923301696777"
   ]
  },
  {
   "cell_type": "markdown",
   "id": "e939920b",
   "metadata": {},
   "source": [
    "5 \n",
    "Test for tree circles - Precision: 0.9721 & Recall: 0.9667 F1 Score: 0.9694\n",
    "2.901827335357666"
   ]
  },
  {
   "cell_type": "markdown",
   "id": "07bfe3b1",
   "metadata": {},
   "source": [
    "10\n",
    "Test for tree circles - Precision: 0.9697 & Recall: 0.8889 F1 Score: 0.9275\n",
    "3.024421453475952"
   ]
  },
  {
   "cell_type": "markdown",
   "id": "f55a9027",
   "metadata": {},
   "source": [
    "## TREE GRID"
   ]
  },
  {
   "cell_type": "code",
   "execution_count": 9,
   "id": "b2edf11a",
   "metadata": {},
   "outputs": [
    {
     "name": "stdout",
     "output_type": "stream",
     "text": [
      "using norm in graph False\n",
      "GCN2(\n",
      "  (layers): ModuleList(\n",
      "    (0): GraphConv(in=3, out=64, normalization=both, activation=None)\n",
      "    (1): GraphConv(in=64, out=64, normalization=both, activation=None)\n",
      "    (2): GraphConv(in=64, out=64, normalization=both, activation=None)\n",
      "    (3): GraphConv(in=64, out=64, normalization=both, activation=None)\n",
      "    (4): GraphConv(in=64, out=64, normalization=both, activation=None)\n",
      "    (5): GraphConv(in=64, out=2, normalization=both, activation=None)\n",
      "  )\n",
      "  (batch_norms): ModuleList()\n",
      "  (dropout): Dropout(p=0.5, inplace=False)\n",
      ")\n",
      "using norm in graph False\n",
      "norm type: bn\n",
      "norm type: bn\n",
      "norm type: bn\n"
     ]
    },
    {
     "data": {
      "text/plain": [
       "<All keys matched successfully>"
      ]
     },
     "execution_count": 9,
     "metadata": {},
     "output_type": "execute_result"
    }
   ],
   "source": [
    "kl = \"01\"\n",
    "with open('./datasets/tree_grid_bidir.g', 'rb') as f:\n",
    "    g1 = pkl.load(f)\n",
    "#     g1 = g1.add_self_loop()\n",
    "num_classes = 2\n",
    "test_labels1 = g1.ndata['label'][g1.ndata['test_mask']]\n",
    "feats1 = g1.ndata['feat'].size()[1]\n",
    "arg1 = Arg(\"gcn2\", [64], 5, 0.5, 64, True, True)\n",
    "base1 = init_teacher(arg1, g1, feats1, num_classes)\n",
    "graph_std1 = init_graph_student(\"gcn\", g1, feats1, num_classes, 0.5, n_hidden=64,\n",
    "                                n_layers=5, hidden_sizes=None, all_layer_dp=True, skip_norm=True)\n",
    "mlp1 = MLP(feats1, [64], num_classes, F.relu, 0.5, batch_norm=True, norm_type='bn')\n",
    "online_mode1 = AllOnlineKG(base1, graph_std1, mlp1, graph_student_name=\"gcn\")\n",
    "model1 = torch.load('./ckpt/gcn/tree_grid_feat_bidir_kl%s.pt' % kl, map_location=\"cuda:0\")\n",
    "online_mode1.load_state_dict(model1)"
   ]
  },
  {
   "cell_type": "code",
   "execution_count": 10,
   "id": "74a37c30",
   "metadata": {
    "scrolled": true
   },
   "outputs": [
    {
     "name": "stdout",
     "output_type": "stream",
     "text": [
      "Base accuracy: 0.9593, Explainer accuracy: 0.9431\n",
      "Agreement score: 0.9675, KL Score: 0.0022\n"
     ]
    }
   ],
   "source": [
    "b, e = predict(base1, graph_std1, g1)"
   ]
  },
  {
   "cell_type": "code",
   "execution_count": 11,
   "id": "57ae6b41",
   "metadata": {},
   "outputs": [],
   "source": [
    "selected = list(range(511,800,1))\n",
    "test_graphs = [extract_true_motif(g1, i, 510, 9) for i in selected]"
   ]
  },
  {
   "cell_type": "code",
   "execution_count": 12,
   "id": "3ee81d2d",
   "metadata": {},
   "outputs": [
    {
     "name": "stderr",
     "output_type": "stream",
     "text": [
      "289it [00:05, 49.88it/s]\n"
     ]
    },
    {
     "name": "stdout",
     "output_type": "stream",
     "text": [
      "Test for tree grid - Precision: 0.9716 & Recall: 0.9178 F1: 0.9440\n",
      "5.814428091049194\n"
     ]
    }
   ],
   "source": [
    "t = time.time()\n",
    "all_pre, all_rec, options = evaluate_dataset(g1, selected, test_graphs, 10, 12, dumping_factor=0.9, num_iter=5)\n",
    "print(\"Test for tree grid - Precision: %.4f & Recall: %.4f F1: %.4f\"\n",
    "      % (all_pre, all_rec, (2*all_pre*all_rec/(all_pre+all_rec))))\n",
    "e = time.time()\n",
    "print(e - t)"
   ]
  },
  {
   "cell_type": "markdown",
   "id": "cfc56f36",
   "metadata": {},
   "source": [
    "0.0\n",
    "Test for tree grid - Precision: 0.9578 & Recall: 0.8414 F1: 0.8959\n",
    "6.869914293289185"
   ]
  },
  {
   "cell_type": "markdown",
   "id": "03a5b955",
   "metadata": {},
   "source": [
    "0.1\n",
    "Test for tree grid - Precision: 0.9716 & Recall: 0.9178 F1: 0.9440\n",
    "5.814428091049194"
   ]
  },
  {
   "cell_type": "markdown",
   "id": "3f84de2a",
   "metadata": {},
   "source": [
    "0.3\n",
    "Test for tree grid - Precision: 0.9691 & Recall: 0.9048 F1: 0.9359\n",
    "6.149960517883301"
   ]
  },
  {
   "cell_type": "markdown",
   "id": "f947ce9a",
   "metadata": {},
   "source": [
    "0.5 Test for tree grid - Precision: 0.9690 & Recall: 0.9014 F1: 0.9340\n",
    "5.5872581005096436"
   ]
  },
  {
   "cell_type": "markdown",
   "id": "4d10eea1",
   "metadata": {},
   "source": [
    "1\n",
    "Test for tree grid - Precision: 0.9711 & Recall: 0.9100 F1: 0.9396\n",
    "5.588150262832642"
   ]
  },
  {
   "cell_type": "markdown",
   "id": "ec8126b3",
   "metadata": {},
   "source": [
    "2\n",
    "Test for tree grid - Precision: 0.9669 & Recall: 0.8939 F1: 0.9290\n",
    "5.943668842315674"
   ]
  },
  {
   "cell_type": "markdown",
   "id": "863fc5b7",
   "metadata": {},
   "source": [
    "4 Test for tree grid - Precision: 0.9650 & Recall: 0.8932 F1: 0.9277\n",
    "6.02161431312561"
   ]
  },
  {
   "cell_type": "markdown",
   "id": "4a42d99b",
   "metadata": {},
   "source": [
    "5\n",
    "Test for tree grid - Precision: 0.9703 & Recall: 0.9057 F1: 0.9369\n",
    "6.0125508308410645"
   ]
  },
  {
   "cell_type": "markdown",
   "id": "efee79ee",
   "metadata": {},
   "source": [
    "10\n",
    "Test for tree grid - Precision: 0.9678 & Recall: 0.8961 F1: 0.9306\n",
    "5.863856077194214"
   ]
  },
  {
   "cell_type": "code",
   "execution_count": null,
   "id": "a8535b11",
   "metadata": {},
   "outputs": [],
   "source": []
  }
 ],
 "metadata": {
  "kernelspec": {
   "display_name": "pyg",
   "language": "python",
   "name": "pyg"
  },
  "language_info": {
   "codemirror_mode": {
    "name": "ipython",
    "version": 3
   },
   "file_extension": ".py",
   "mimetype": "text/x-python",
   "name": "python",
   "nbconvert_exporter": "python",
   "pygments_lexer": "ipython3",
   "version": "3.8.11"
  }
 },
 "nbformat": 4,
 "nbformat_minor": 5
}
