{
 "cells": [
  {
   "cell_type": "code",
   "execution_count": 1,
   "id": "a3a60a2d",
   "metadata": {},
   "outputs": [],
   "source": [
    "import time\n",
    "from sklearn.metrics import recall_score, f1_score, accuracy_score, precision_score, roc_curve\n",
    "import torch\n",
    "import torch.nn.functional as F\n",
    "import numpy as np\n",
    "from xgnn_src.shared_networks import OnlineKG, NaiveTeacher\n",
    "from xgnn_src.graph.gcn import GCN, GCN_MLP\n",
    "from xgnn_src.graph.utils import load_data, get_mask, draw_simple_graph\n",
    "import pickle as pkl\n",
    "from sklearn.model_selection import StratifiedKFold\n",
    "from xgnn_src.graph.dataloader import GCDataLoader"
   ]
  },
  {
   "cell_type": "code",
   "execution_count": 2,
   "id": "c4c55595",
   "metadata": {},
   "outputs": [],
   "source": [
    "import collections\n",
    "import dgl\n",
    "import networkx as nx"
   ]
  },
  {
   "cell_type": "code",
   "execution_count": 3,
   "id": "312a3457",
   "metadata": {},
   "outputs": [],
   "source": [
    "import matplotlib.pyplot as plt\n",
    "plt.rcParams[\"figure.figsize\"] = [8, 8]"
   ]
  },
  {
   "cell_type": "code",
   "execution_count": 4,
   "id": "e09bf7bd",
   "metadata": {},
   "outputs": [],
   "source": [
    "def get_mask(g, base, explainer, undir=True, threshold=0.5):\n",
    "    base.eval()\n",
    "    explainer.eval()\n",
    "    with torch.no_grad():\n",
    "        base(g, g.ndata['attr'])\n",
    "        embedding = g.ndata['emb']\n",
    "        edge_weight = explainer.edge_mask.compute_adj(g, embedding)\n",
    "        edge_weight = explainer.edge_mask.edge_mlp(edge_weight)\n",
    "        mask = explainer.edge_mask.concrete(edge_weight, beta=5.)\n",
    "#         print(mask)\n",
    "#         mask = F.sigmoid(edge_weight)\n",
    "#         print(mask)\n",
    "    with g.local_scope():\n",
    "        num_nodes = g.num_nodes()\n",
    "        adj = [[0.] * num_nodes for _ in range(num_nodes)] \n",
    "        src, dst = g.edges()\n",
    "        for i, (s, d) in enumerate(zip(src, dst)):\n",
    "            s, d = s.item(), d.item()\n",
    "            m = mask[i].item()\n",
    "            if m < threshold:\n",
    "                adj[s][d] = 0.0\n",
    "                if undir:\n",
    "                    continue\n",
    "                adj[d][s] = 0.0\n",
    "            else:\n",
    "                adj[s][d] = m\n",
    "        weight = []\n",
    "        for s, d in zip(src, dst):\n",
    "            s, d = s.item(), d.item()\n",
    "            weight.append(adj[s][d])\n",
    "        mask = np.array(weight)\n",
    "    return mask\n",
    "\n",
    "def obtain_predictions(tpr, fpr, threshold, preds):\n",
    "    optimal_proba_cutoff = sorted(zip(tpr - fpr, threshold), key=lambda i: i[0], reverse=True)[0][1]\n",
    "    roc_predictions = [1 if i >= optimal_proba_cutoff else 0 for i in preds]\n",
    "    return roc_predictions"
   ]
  },
  {
   "cell_type": "code",
   "execution_count": 5,
   "id": "ff6004ce",
   "metadata": {},
   "outputs": [
    {
     "name": "stdout",
     "output_type": "stream",
     "text": [
      "Done loading data from cached files.\n"
     ]
    }
   ],
   "source": [
    "dataset, dim_nfeats, gclasses = load_data('BA')"
   ]
  },
  {
   "cell_type": "markdown",
   "id": "a68615f6",
   "metadata": {},
   "source": [
    "- Low kl term => focus on class 0 (<1)\n",
    "- KL >=1 => focus on both\n",
    "- KL too large => "
   ]
  },
  {
   "cell_type": "code",
   "execution_count": 6,
   "id": "cd60d4f6",
   "metadata": {},
   "outputs": [],
   "source": [
    "with open('./graph/ckpt/gcn/ba_f5.dat', 'rb') as f:\n",
    "    dataloader, idx = pkl.load(f)\n",
    "train_idx, valid_idx = idx"
   ]
  },
  {
   "cell_type": "code",
   "execution_count": 7,
   "id": "97ea3032",
   "metadata": {},
   "outputs": [
    {
     "name": "stdout",
     "output_type": "stream",
     "text": [
      "norm type: bn\n",
      "norm type: bn\n"
     ]
    }
   ],
   "source": [
    "base = GCN(10, 64, 2, 5, 0.5, 'max', 'last')\n",
    "explainer = GCN_MLP(10, 64, 2, 5, 0.5, 64 * 2, 'max', 'last', 'sigmoid', False, 'bn')\n",
    "teacher = NaiveTeacher(2, 'mean')\n",
    "online_mode = OnlineKG(base, explainer, teacher).to(torch.device('cpu'))"
   ]
  },
  {
   "cell_type": "code",
   "execution_count": 9,
   "id": "60533551",
   "metadata": {},
   "outputs": [],
   "source": [
    "kl = \"01\""
   ]
  },
  {
   "cell_type": "code",
   "execution_count": 10,
   "id": "56ebb792",
   "metadata": {},
   "outputs": [
    {
     "data": {
      "text/plain": [
       "<All keys matched successfully>"
      ]
     },
     "execution_count": 10,
     "metadata": {},
     "output_type": "execute_result"
    }
   ],
   "source": [
    "model = torch.load('./graph/ckpt/gcn/ba_kl%s.pt'%kl, map_location='cuda:0')\n",
    "online_mode.load_state_dict(model)"
   ]
  },
  {
   "cell_type": "code",
   "execution_count": 11,
   "id": "667924a3",
   "metadata": {},
   "outputs": [],
   "source": [
    "from scipy.sparse import coo_matrix, csr_matrix\n",
    "def get_edge_labels(adj, insert=20):\n",
    "    real = []\n",
    "    skip_lv = insert + 5\n",
    "    for r, c in list(zip(adj.row, adj.col)):\n",
    "        if r >= insert and r < skip_lv and c >= insert and c < skip_lv:\n",
    "            real.append(1)\n",
    "        else:\n",
    "            real.append(0)\n",
    "    return real"
   ]
  },
  {
   "cell_type": "code",
   "execution_count": 12,
   "id": "0f36532e",
   "metadata": {},
   "outputs": [],
   "source": [
    "def symmetrize_weight(g, weight):\n",
    "    adj = g.adj(scipy_fmt=\"coo\")\n",
    "    adj.data = weight\n",
    "    adj_t = adj.transpose()\n",
    "    adj = adj + adj_t\n",
    "#     w2 = adj_t.data\n",
    "#     return np.maximum(weight, w2)\n",
    "    return adj.data"
   ]
  },
  {
   "cell_type": "code",
   "execution_count": 13,
   "id": "ff179cba",
   "metadata": {},
   "outputs": [],
   "source": [
    "eval_graph_idxs = list(range(0,100)) + list(range(500,600))"
   ]
  },
  {
   "cell_type": "code",
   "execution_count": 14,
   "id": "981c4030",
   "metadata": {},
   "outputs": [
    {
     "name": "stdout",
     "output_type": "stream",
     "text": [
      "Precision 0.5707, Recall 0.4660 F1 0.5131\n",
      "1.551431655883789\n"
     ]
    }
   ],
   "source": [
    "s = time.time()\n",
    "reals, preds = [], []\n",
    "for i in eval_graph_idxs:\n",
    "    g = dataset[i][0]\n",
    "    weight = get_mask(g, base, explainer, True, threshold=0.0)\n",
    "    weight = symmetrize_weight(g, weight)\n",
    "    adj = g.adj(scipy_fmt='coo')\n",
    "    label = get_edge_labels(adj)\n",
    "    fpr, tpr, threshold = roc_curve(label, weight)\n",
    "    pred = obtain_predictions(tpr, fpr, threshold, weight)    \n",
    "    reals.extend(label)\n",
    "    preds.extend(pred)\n",
    "\n",
    "pr = precision_score(reals, preds)\n",
    "re = recall_score(reals, preds)\n",
    "f1 = 2 * pr * re / (pr + re)\n",
    "print(\"Precision %.4f, Recall %.4f F1 %.4f\" % (pr, re, f1))\n",
    "print(time.time() - s)"
   ]
  },
  {
   "cell_type": "code",
   "execution_count": null,
   "id": "a3d048fb",
   "metadata": {},
   "outputs": [],
   "source": []
  }
 ],
 "metadata": {
  "kernelspec": {
   "display_name": "pyg",
   "language": "python",
   "name": "pyg"
  },
  "language_info": {
   "codemirror_mode": {
    "name": "ipython",
    "version": 3
   },
   "file_extension": ".py",
   "mimetype": "text/x-python",
   "name": "python",
   "nbconvert_exporter": "python",
   "pygments_lexer": "ipython3",
   "version": "3.8.11"
  }
 },
 "nbformat": 4,
 "nbformat_minor": 5
}
