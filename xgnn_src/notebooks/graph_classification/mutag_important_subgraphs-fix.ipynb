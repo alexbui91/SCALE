{
 "cells": [
  {
   "cell_type": "code",
   "execution_count": 12,
   "id": "a3a60a2d",
   "metadata": {},
   "outputs": [],
   "source": [
    "import time\n",
    "from sklearn.metrics import recall_score, f1_score, accuracy_score, precision_score, roc_curve\n",
    "import torch\n",
    "import torch.nn.functional as F\n",
    "import numpy as np\n",
    "from xgnn_src.shared_networks import OnlineKG, NaiveTeacher\n",
    "from xgnn_src.graph.gcn import GCN, GCN_MLP\n",
    "from xgnn_src.graph.utils import load_data\n",
    "import pickle as pkl\n",
    "from sklearn.model_selection import StratifiedKFold\n",
    "from xgnn_src.graph.dataloader import GCDataLoader\n",
    "from xgnn_src.graph.utils import draw_mutag, get_mask"
   ]
  },
  {
   "cell_type": "code",
   "execution_count": 13,
   "id": "c4c55595",
   "metadata": {},
   "outputs": [],
   "source": [
    "import collections\n",
    "import dgl\n",
    "import networkx as nx\n",
    "import matplotlib.pyplot as plt"
   ]
  },
  {
   "cell_type": "code",
   "execution_count": 14,
   "id": "312a3457",
   "metadata": {},
   "outputs": [],
   "source": [
    "import matplotlib.pyplot as plt\n",
    "plt.rcParams[\"figure.figsize\"] = [8, 8]"
   ]
  },
  {
   "cell_type": "markdown",
   "id": "90e14691",
   "metadata": {},
   "source": [
    "- Don't use balancing weight for class\n",
    "- Select Mutagenicity graphs w/ NO2 & NH2 & randomly select the same number of graphs for negative (downsampling)\n",
    "\n",
    "python online_kd.py --dataset Mutagenicity --device 0 --graph_pooling_type max \n",
    "--model_name gcn --linear_pooling_type last --epochs 200 --kd_strategy naive \n",
    "--norm_type bn  --store_data ./ckpt/gcn/pgmutag_rand08.dat --datapath ./datasets/dgl_mutagenicity.pkl --split_name rand --split_ratio 0.8 --lr 0.01 --beta 5. --mk_term 0.001 --sl_term 0.0001 --model_path ./ckpt/gcn/pgmutag_rand5.pt\n",
    "\n"
   ]
  },
  {
   "cell_type": "code",
   "execution_count": 15,
   "id": "e7545348",
   "metadata": {},
   "outputs": [],
   "source": [
    "def get_mask(g, base, explainer, undir=True, threshold=0.5):\n",
    "    base.eval()\n",
    "    explainer.eval()\n",
    "    with torch.no_grad():\n",
    "        base(g, g.ndata['attr'])\n",
    "        embedding = g.ndata['emb']\n",
    "        edge_weight = explainer.edge_mask.compute_adj(g, embedding)\n",
    "        edge_weight = explainer.edge_mask.edge_mlp(edge_weight)\n",
    "        mask = explainer.edge_mask.concrete(edge_weight, beta=5.)\n",
    "#         print(mask)\n",
    "#         mask = F.sigmoid(edge_weight)\n",
    "#         print(mask)\n",
    "    with g.local_scope():\n",
    "        num_nodes = g.num_nodes()\n",
    "        adj = [[0.] * num_nodes for _ in range(num_nodes)] \n",
    "        src, dst = g.edges()\n",
    "        for i, (s, d) in enumerate(zip(src, dst)):\n",
    "            s, d = s.item(), d.item()\n",
    "            m = mask[i].item()\n",
    "            if m < threshold:\n",
    "                adj[s][d] = 0.0\n",
    "                if undir:\n",
    "                    continue\n",
    "                adj[d][s] = 0.0\n",
    "            else:\n",
    "                adj[s][d] = m\n",
    "        weight = []\n",
    "        for s, d in zip(src, dst):\n",
    "            s, d = s.item(), d.item()\n",
    "            weight.append(adj[s][d])\n",
    "        mask = np.array(weight)\n",
    "    return mask"
   ]
  },
  {
   "cell_type": "code",
   "execution_count": 16,
   "id": "f37aa69a",
   "metadata": {},
   "outputs": [],
   "source": [
    "def obtain_predictions(tpr, fpr, threshold, preds):\n",
    "    optimal_proba_cutoff = sorted(zip(tpr - fpr, threshold), key=lambda i: i[0], reverse=True)[0][1]\n",
    "    roc_predictions = [1 if i >= optimal_proba_cutoff else 0 for i in preds]\n",
    "    return roc_predictions"
   ]
  },
  {
   "cell_type": "code",
   "execution_count": 17,
   "id": "427bf3b1",
   "metadata": {},
   "outputs": [],
   "source": [
    "mutag_labels = ['C', 'O', 'Cl', 'H', 'N', 'F', 'Br', 'S', 'P', 'I', 'Na', 'K', 'Li', 'Ca']"
   ]
  },
  {
   "cell_type": "code",
   "execution_count": 18,
   "id": "97ea3032",
   "metadata": {},
   "outputs": [
    {
     "name": "stdout",
     "output_type": "stream",
     "text": [
      "norm type: bn\n",
      "norm type: bn\n"
     ]
    },
    {
     "data": {
      "text/plain": [
       "<All keys matched successfully>"
      ]
     },
     "execution_count": 18,
     "metadata": {},
     "output_type": "execute_result"
    }
   ],
   "source": [
    "base = GCN(14, 64, 2, 5, 0.0, 'max', 'last')\n",
    "explainer = GCN_MLP(14, 64, 2, 5, 0.5, 64 * 2, 'max', 'last', 'sigmoid', False, 'bn', 0.0)\n",
    "teacher = NaiveTeacher(2, 'mean')\n",
    "online_mode = OnlineKG(base, explainer, teacher)\n",
    "model = torch.load('./graph/ckpt/gcn/pgmutag_rand5.pt')\n",
    "online_mode.load_state_dict(model)"
   ]
  },
  {
   "cell_type": "code",
   "execution_count": 20,
   "id": "dc4ba741",
   "metadata": {},
   "outputs": [],
   "source": [
    "dataset, dim_nfeats, gclasses = load_data('Mutagenicity', './graph/datasets/dgl_mutagenicity.pkl', neg_ratio=1.)"
   ]
  },
  {
   "cell_type": "code",
   "execution_count": 21,
   "id": "7a305cd5",
   "metadata": {},
   "outputs": [],
   "source": [
    "graphs = []\n",
    "for g, l in dataset:\n",
    "    if l == 0 and g.edata['edge_labels'].sum() > 0:\n",
    "        graphs.append(g)"
   ]
  },
  {
   "cell_type": "code",
   "execution_count": null,
   "id": "af9b0daf",
   "metadata": {},
   "outputs": [],
   "source": [
    "preds = []\n",
    "for g in graphs:\n",
    "    weight = get_mask(g, base, explainer, True, threshold=0.5)\n",
    "    pred = torch.ceil(torch.tensor(weight)).to(torch.int64).numpy()\n",
    "    real = g.edata['edge_labels'].numpy()\n",
    "    pred = precision_score(real, pred)\n",
    "    preds.append(pred)\n",
    "preds = torch.tensor(preds)"
   ]
  },
  {
   "cell_type": "code",
   "execution_count": 134,
   "id": "b5fe66eb",
   "metadata": {},
   "outputs": [
    {
     "name": "stdout",
     "output_type": "stream",
     "text": [
      "tensor([169, 420, 975, 645, 791, 681, 518, 414, 203, 322, 701, 498, 153,  82,\n",
      "        462, 761, 752, 421, 718, 720, 732, 719, 724, 682, 680, 679, 678, 677,\n",
      "        676, 675, 674, 673, 747, 738, 717, 735, 734, 733, 737, 741, 742, 743,\n",
      "        744, 745, 746, 721, 740, 731, 730, 729])\n"
     ]
    }
   ],
   "source": [
    "print(torch.topk(preds, 100).indices[:50])"
   ]
  },
  {
   "cell_type": "markdown",
   "id": "51deb539",
   "metadata": {},
   "source": [
    "***Ground truth***"
   ]
  },
  {
   "cell_type": "code",
   "execution_count": 29,
   "id": "fba8facc",
   "metadata": {},
   "outputs": [
    {
     "data": {
      "image/png": "[encoded data removed]",
      "text/plain": [
       "<Figure size 576x576 with 1 Axes>"
      ]
     },
     "metadata": {},
     "output_type": "display_data"
    }
   ],
   "source": [
    "gid = 257\n",
    "g = graphs[gid]\n",
    "real = g.edata['edge_labels'].numpy()\n",
    "weight2 = real * 5 + 1\n",
    "src, dst = g.edges()\n",
    "draw_mutag(g, weight2.tolist(), undir=True, node_size=700, margin=0.05)\n",
    "plt.savefig(\"./graph/images/important_subgraphs2/mutag/mutag_%i_real.pdf\"%gid, format='pdf', dpi=300)"
   ]
  },
  {
   "cell_type": "code",
   "execution_count": 145,
   "id": "5966bbe7",
   "metadata": {},
   "outputs": [
    {
     "name": "stdout",
     "output_type": "stream",
     "text": [
      "0.6666666666666666 1.0\n"
     ]
    },
    {
     "data": {
      "image/png": "[encoded data removed]",
      "text/plain": [
       "<Figure size 576x576 with 1 Axes>"
      ]
     },
     "metadata": {},
     "output_type": "display_data"
    }
   ],
   "source": [
    "gid = 257\n",
    "g = graphs[gid]\n",
    "weight = get_mask(g, base, explainer, True, threshold=0.5)\n",
    "weight2 = np.array(weight * 10 + 1).astype(np.int)\n",
    "pred = torch.ceil(torch.tensor(weight)).to(torch.int64).numpy()\n",
    "real = g.edata['edge_labels'].numpy()\n",
    "print(precision_score(real, pred), recall_score(real, pred))\n",
    "src, dst = g.edges()\n",
    "i = 0\n",
    "draw_mutag(g, weight2.tolist(), undir=True, node_size=700, margin=0.05)\n",
    "plt.savefig(\"./graph/images/important_subgraphs2/mutag/mutag_%i.pdf\"%gid, format='pdf', dpi=300)\n",
    "# for s, d, r, p, w in zip(src, dst, real, pred, weight2):\n",
    "#     if w > 1:\n",
    "#         s, d = s.item(), d.item()\n",
    "#         sl, dl = mutag_labels[g.ndata['node_labels'][s]], mutag_labels[g.ndata['node_labels'][d]]\n",
    "#         print(\"check\",i, s, d, sl, dl, r, p, w)\n",
    "#     i += 1"
   ]
  },
  {
   "cell_type": "code",
   "execution_count": 111,
   "id": "0653b5de",
   "metadata": {},
   "outputs": [
    {
     "name": "stdout",
     "output_type": "stream",
     "text": [
      "[(0, 1), (0, 2), (0, 3), (1, 0), (1, 4), (1, 5), (2, 0), (2, 6), (2, 12), (3, 0), (3, 7), (3, 13), (3, 14), (4, 1), (4, 8), (4, 15), (5, 1), (5, 16), (6, 2), (6, 9), (6, 8), (7, 3), (7, 10), (7, 17), (7, 18), (8, 4), (8, 11), (8, 6), (9, 6), (9, 19), (10, 7), (10, 20), (10, 21), (11, 8), (11, 22), (12, 2), (13, 3), (14, 3), (15, 4), (16, 5), (17, 7), (18, 7), (19, 9), (20, 10), (21, 10), (22, 11)]\n"
     ]
    }
   ],
   "source": [
    "gx = dgl.to_networkx(g)\n",
    "print(gx.edges())"
   ]
  },
  {
   "cell_type": "code",
   "execution_count": 112,
   "id": "20ae3f52",
   "metadata": {},
   "outputs": [
    {
     "data": {
      "text/plain": [
       "(tensor([ 0,  1,  0,  2,  0,  3,  1,  4,  1,  5,  2,  6,  3,  7,  4,  8,  6,  9,\n",
       "          7, 10,  8, 11,  6,  8,  2, 12,  3, 13,  3, 14,  4, 15,  5, 16,  7, 17,\n",
       "          7, 18,  9, 19, 10, 20, 10, 21, 11, 22]),\n",
       " tensor([ 1,  0,  2,  0,  3,  0,  4,  1,  5,  1,  6,  2,  7,  3,  8,  4,  9,  6,\n",
       "         10,  7, 11,  8,  8,  6, 12,  2, 13,  3, 14,  3, 15,  4, 16,  5, 17,  7,\n",
       "         18,  7, 19,  9, 20, 10, 21, 10, 22, 11]))"
      ]
     },
     "execution_count": 112,
     "metadata": {},
     "output_type": "execute_result"
    }
   ],
   "source": [
    "g.edges()"
   ]
  },
  {
   "cell_type": "code",
   "execution_count": 15,
   "id": "8ae63edc",
   "metadata": {},
   "outputs": [
    {
     "name": "stdout",
     "output_type": "stream",
     "text": [
      "tensor([11, 14, 11, 15]) tensor([14, 11, 15, 11])\n",
      "tensor([ 7, 11, 11, 14, 11, 15]) tensor([11,  7, 14, 11, 15, 11])\n"
     ]
    }
   ],
   "source": [
    "src, dst = g.edges()\n",
    "idx1 = g.edata['edge_labels'].nonzero().flatten()\n",
    "s1, d1 = src[idx1], dst[idx1]\n",
    "idx2 = pred.nonzero().flatten()\n",
    "s2, d2 = src[idx2], dst[idx2]\n",
    "print(s1,d1)\n",
    "print(s2,d2)"
   ]
  },
  {
   "cell_type": "code",
   "execution_count": 19,
   "id": "a66de471",
   "metadata": {},
   "outputs": [
    {
     "data": {
      "text/plain": [
       "tensor([4], dtype=torch.int32)"
      ]
     },
     "execution_count": 19,
     "metadata": {},
     "output_type": "execute_result"
    }
   ],
   "source": [
    "g.nodes[11].data['node_labels']"
   ]
  },
  {
   "cell_type": "code",
   "execution_count": 11,
   "id": "752560b7",
   "metadata": {},
   "outputs": [
    {
     "name": "stdout",
     "output_type": "stream",
     "text": [
      "Precision 0.6617, Recall 0.9972 F1 0.7955\n",
      "6.670144081115723\n"
     ]
    }
   ],
   "source": [
    "s = time.time()\n",
    "reals, preds = [], []\n",
    "for g in graphs:\n",
    "    weight = get_mask(g, base, explainer, True, threshold=0.0)\n",
    "    label = g.edata['edge_labels'].numpy()\n",
    "    fpr, tpr, threshold = roc_curve(label, weight)\n",
    "    pred = obtain_predictions(tpr, fpr, threshold, weight)    \n",
    "    reals.extend(label)\n",
    "    preds.extend(pred)\n",
    "\n",
    "pr = precision_score(reals, preds)\n",
    "re = recall_score(reals, preds)\n",
    "f1 = 2 * pr * re / (pr + re)\n",
    "print(\"Precision %.4f, Recall %.4f F1 %.4f\" % (pr, re, f1))\n",
    "print(time.time() - s)"
   ]
  },
  {
   "cell_type": "code",
   "execution_count": null,
   "id": "5fa0ed00",
   "metadata": {},
   "outputs": [],
   "source": []
  }
 ],
 "metadata": {
  "kernelspec": {
   "display_name": "pyg",
   "language": "python",
   "name": "pyg"
  },
  "language_info": {
   "codemirror_mode": {
    "name": "ipython",
    "version": 3
   },
   "file_extension": ".py",
   "mimetype": "text/x-python",
   "name": "python",
   "nbconvert_exporter": "python",
   "pygments_lexer": "ipython3",
   "version": "3.8.11"
  }
 },
 "nbformat": 4,
 "nbformat_minor": 5
}
