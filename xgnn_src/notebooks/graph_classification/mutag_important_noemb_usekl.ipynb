{
 "cells": [
  {
   "cell_type": "code",
   "execution_count": 10,
   "id": "a3a60a2d",
   "metadata": {},
   "outputs": [],
   "source": [
    "import time\n",
    "from sklearn.metrics import recall_score, f1_score, accuracy_score, precision_score, roc_curve\n",
    "import torch\n",
    "import torch.nn.functional as F\n",
    "import numpy as np\n",
    "from xgnn_src.shared_networks import OnlineKG, NaiveTeacher\n",
    "from xgnn_src.graph.gcn import GCN, GCN_MLP, GCN_MLP2\n",
    "from xgnn_src.graph.utils import load_data\n",
    "import pickle as pkl\n",
    "from sklearn.model_selection import StratifiedKFold\n",
    "from xgnn_src.graph.dataloader import GCDataLoader\n",
    "from xgnn_src.graph.utils import draw_mutag, get_mask"
   ]
  },
  {
   "cell_type": "code",
   "execution_count": 2,
   "id": "c4c55595",
   "metadata": {},
   "outputs": [],
   "source": [
    "import collections\n",
    "import dgl\n",
    "import networkx as nx\n",
    "import matplotlib.pyplot as plt"
   ]
  },
  {
   "cell_type": "code",
   "execution_count": 3,
   "id": "312a3457",
   "metadata": {},
   "outputs": [],
   "source": [
    "import matplotlib.pyplot as plt\n",
    "plt.rcParams[\"figure.figsize\"] = [8, 8]"
   ]
  },
  {
   "cell_type": "code",
   "execution_count": 15,
   "id": "e7545348",
   "metadata": {},
   "outputs": [],
   "source": [
    "def get_mask(g, base, explainer, undir=True, threshold=0.5):\n",
    "    base.eval()\n",
    "    explainer.eval()\n",
    "    with torch.no_grad():\n",
    "        base(g, g.ndata['attr'])\n",
    "        embedding = g.ndata['emb']\n",
    "        edge_weight = explainer.edge_mask.compute_adj(g, embedding)\n",
    "        edge_weight = explainer.edge_mask.edge_mlp(edge_weight)\n",
    "        mask = explainer.edge_mask.concrete(edge_weight, beta=5.)\n",
    "#         print(mask)\n",
    "#         mask = F.sigmoid(edge_weight)\n",
    "#         print(mask)\n",
    "    with g.local_scope():\n",
    "        num_nodes = g.num_nodes()\n",
    "        adj = [[0.] * num_nodes for _ in range(num_nodes)] \n",
    "        src, dst = g.edges()\n",
    "        for i, (s, d) in enumerate(zip(src, dst)):\n",
    "            s, d = s.item(), d.item()\n",
    "            m = mask[i].item()\n",
    "            if m < threshold:\n",
    "                adj[s][d] = 0.0\n",
    "                if undir:\n",
    "                    continue\n",
    "                adj[d][s] = 0.0\n",
    "            else:\n",
    "                adj[s][d] = m\n",
    "        weight = []\n",
    "        for s, d in zip(src, dst):\n",
    "            s, d = s.item(), d.item()\n",
    "            weight.append(adj[s][d])\n",
    "        mask = np.array(weight)\n",
    "    return mask"
   ]
  },
  {
   "cell_type": "code",
   "execution_count": 26,
   "id": "f37aa69a",
   "metadata": {},
   "outputs": [],
   "source": [
    "def obtain_predictions(tpr, fpr, threshold, preds):\n",
    "    optimal_proba_cutoff = sorted(zip(np.abs(tpr - fpr), threshold), key=lambda i: i[0], reverse=True)[0][1]\n",
    "    roc_predictions = [1 if i >= optimal_proba_cutoff else 0 for i in preds]\n",
    "    return roc_predictions"
   ]
  },
  {
   "cell_type": "code",
   "execution_count": 6,
   "id": "427bf3b1",
   "metadata": {},
   "outputs": [],
   "source": [
    "mutag_labels = ['C', 'O', 'Cl', 'H', 'N', 'F', 'Br', 'S', 'P', 'I', 'Na', 'K', 'Li', 'Ca']"
   ]
  },
  {
   "cell_type": "code",
   "execution_count": 8,
   "id": "e4dcd6e7",
   "metadata": {},
   "outputs": [],
   "source": [
    "kl = \"4\""
   ]
  },
  {
   "cell_type": "code",
   "execution_count": 11,
   "id": "97ea3032",
   "metadata": {},
   "outputs": [
    {
     "name": "stdout",
     "output_type": "stream",
     "text": [
      "norm type: bn\n",
      "norm type: bn\n",
      "norm type: bn\n"
     ]
    },
    {
     "data": {
      "text/plain": [
       "<All keys matched successfully>"
      ]
     },
     "execution_count": 11,
     "metadata": {},
     "output_type": "execute_result"
    }
   ],
   "source": [
    "base = GCN(14, 64, 2, 5, 0.0, 'max', 'last')\n",
    "explainer = GCN_MLP2(14, 64, 2, 5, 0.5, 64 * 2, 'max', 'last', 'sigmoid', False, 'bn', 0.0)\n",
    "teacher = NaiveTeacher(2, 'mean')\n",
    "online_mode = OnlineKG(base, explainer, teacher)\n",
    "model = torch.load('./graph/ckpt/gcn/pgmutag_rand5_kl%s_noemb.pt'%kl)\n",
    "online_mode.load_state_dict(model)"
   ]
  },
  {
   "cell_type": "code",
   "execution_count": 12,
   "id": "dc4ba741",
   "metadata": {},
   "outputs": [],
   "source": [
    "dataset, dim_nfeats, gclasses = load_data('Mutagenicity', './graph/datasets/dgl_mutagenicity.pkl', neg_ratio=1.)"
   ]
  },
  {
   "cell_type": "code",
   "execution_count": 13,
   "id": "7a305cd5",
   "metadata": {},
   "outputs": [],
   "source": [
    "graphs = []\n",
    "for g, l in dataset:\n",
    "    if l == 0 and g.edata['edge_labels'].sum() > 0:\n",
    "        graphs.append(g)"
   ]
  },
  {
   "cell_type": "code",
   "execution_count": 16,
   "id": "752560b7",
   "metadata": {},
   "outputs": [
    {
     "name": "stdout",
     "output_type": "stream",
     "text": [
      "Precision 0.0000, Recall 0.0000 F1 nan\n",
      "7.055383205413818\n"
     ]
    }
   ],
   "source": [
    "s = time.time()\n",
    "reals, preds = [], []\n",
    "for g in graphs:\n",
    "    weight = get_mask(g, base, explainer, True, threshold=0.0)\n",
    "    label = g.edata['edge_labels'].numpy()\n",
    "    fpr, tpr, threshold = roc_curve(label, weight)\n",
    "    pred = obtain_predictions(tpr, fpr, threshold, weight)    \n",
    "    reals.extend(label)\n",
    "    preds.extend(pred)\n",
    "\n",
    "pr = precision_score(reals, preds)\n",
    "re = recall_score(reals, preds)\n",
    "f1 = 2 * pr * re / (pr + re)\n",
    "print(\"Precision %.4f, Recall %.4f F1 %.4f\" % (pr, re, f1))\n",
    "print(time.time() - s)"
   ]
  },
  {
   "cell_type": "code",
   "execution_count": 28,
   "id": "5fa0ed00",
   "metadata": {},
   "outputs": [
    {
     "name": "stdout",
     "output_type": "stream",
     "text": [
      "Precision 0.0980, Recall 1.0000 F1 0.1784\n"
     ]
    }
   ],
   "source": [
    "reals, preds = [], []\n",
    "for g in graphs:\n",
    "    weight = get_mask(g, base, explainer, True, threshold=0.0)\n",
    "    label = g.edata['edge_labels'].numpy()\n",
    "    fpr, tpr, threshold = roc_curve(label, weight)\n",
    "#     pred = obtain_predictions(tpr, fpr, threshold, weight)    \n",
    "    pred = weight.astype(np.int)\n",
    "    reals.extend(label)\n",
    "    preds.extend(pred)\n",
    "\n",
    "pr = precision_score(reals, preds)\n",
    "re = recall_score(reals, preds)\n",
    "f1 = 2 * pr * re / (pr + re)\n",
    "print(\"Precision %.4f, Recall %.4f F1 %.4f\" % (pr, re, f1))"
   ]
  },
  {
   "cell_type": "code",
   "execution_count": null,
   "id": "0eaea7f8",
   "metadata": {},
   "outputs": [],
   "source": []
  }
 ],
 "metadata": {
  "kernelspec": {
   "display_name": "pyg",
   "language": "python",
   "name": "pyg"
  },
  "language_info": {
   "codemirror_mode": {
    "name": "ipython",
    "version": 3
   },
   "file_extension": ".py",
   "mimetype": "text/x-python",
   "name": "python",
   "nbconvert_exporter": "python",
   "pygments_lexer": "ipython3",
   "version": "3.8.11"
  }
 },
 "nbformat": 4,
 "nbformat_minor": 5
}
